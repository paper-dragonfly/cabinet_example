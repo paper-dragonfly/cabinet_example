{
 "cells": [
  {
   "cell_type": "markdown",
   "metadata": {},
   "source": [
    "## Cabinet Sandbox - Youtube thumbnails Example\n",
    "#### Description\n",
    "Cabinet sandbox exists to provide an example of the Cabinet system at work. In this example (youtube.py), a dataset of thumbnail images and their assoicated metadata are uploaded to Cabinet. The other functions in the cabinet_sdk library are then demonstrated using the uploaded data\n",
    "#### The Data\n",
    "A file system containing youtube video thumnbnails and a csv with associated metadata.\n",
    "\n",
    "Link to dataset: https://www.kaggle.com/datasets/praneshmukhopadhyay/youtube-thumbnail-dataset "
   ]
  },
  {
   "cell_type": "code",
   "execution_count": 94,
   "metadata": {},
   "outputs": [
    {
     "name": "stdout",
     "output_type": "stream",
     "text": [
      "The autoreload extension is already loaded. To reload it, use:\n",
      "  %reload_ext autoreload\n"
     ]
    }
   ],
   "source": [
    "%load_ext autoreload \n",
    "%autoreload 2 "
   ]
  },
  {
   "cell_type": "code",
   "execution_count": 95,
   "metadata": {},
   "outputs": [],
   "source": [
    "from typing import List\n",
    "from PIL import Image \n",
    "import io\n",
    "import os\n",
    "# from IPython import display\n",
    "from base64 import b64decode, b64encode\n",
    "import pdb\n",
    "import cabinet_sdk as c"
   ]
  },
  {
   "cell_type": "code",
   "execution_count": 96,
   "metadata": {},
   "outputs": [],
   "source": [
    "# set environment \n",
    "os.environ['ENV'] = 'testing'\n",
    "ENV = os.getenv(\"ENV\")"
   ]
  },
  {
   "cell_type": "markdown",
   "metadata": {},
   "source": [
    "Test cabinet_sdk library is installed and working \n"
   ]
  },
  {
   "cell_type": "code",
   "execution_count": 97,
   "metadata": {},
   "outputs": [
    {
     "name": "stdout",
     "output_type": "stream",
     "text": [
      "SDK live\n",
      " {'status': 200}\n"
     ]
    }
   ],
   "source": [
    "c.check_health()"
   ]
  },
  {
   "cell_type": "markdown",
   "metadata": {},
   "source": [
    "##### PROCESS DATA INTO FORMAT THAT CAN BE UPLOADED TO CABINET \n",
    "note: this is specific to this data set (youtube thumbnails) \n",
    "\n"
   ]
  },
  {
   "cell_type": "markdown",
   "metadata": {},
   "source": [
    "1. Turn csv metadata into List[dicts] \n"
   ]
  },
  {
   "cell_type": "code",
   "execution_count": 98,
   "metadata": {},
   "outputs": [
    {
     "name": "stdout",
     "output_type": "stream",
     "text": [
      "[{'blob_type': 'youtube', 'photo_id': 'OkmNXy7er84', 'channel': '3Blue1Brown', 'category': 'Science', 'title': 'The hardest problem on the hardest test'}, {'blob_type': 'youtube', 'photo_id': 'r6sGWTCMz2k', 'channel': '3Blue1Brown', 'category': 'Science', 'title': 'But what is a Fourier series? From heat flow to drawing with circles | DE4'}]\n"
     ]
    }
   ],
   "source": [
    "desired_num_entries = 2\n",
    "\n",
    "def create_metadata_list() -> list:\n",
    "    with open('mini_metadata.csv',newline='') as csvfile:\n",
    "        count = 0\n",
    "        metadata = [] \n",
    "        while True and count < (desired_num_entries+1):\n",
    "            entry_line= csvfile.readline()\n",
    "            if not entry_line:\n",
    "                break\n",
    "            entry_list= entry_line.strip().split(',')\n",
    "            # if title split because it contianed commas, recreate single title\n",
    "            if len(entry_list) > 4:\n",
    "                title_split = entry_list[3:]\n",
    "                title = ', '.join(title_split) \n",
    "                entry_list[3] = title \n",
    "            entry_metadata = {'blob_type':'youtube','photo_id': entry_list[0], 'channel':entry_list[1],'category':entry_list[2],'title':entry_list[3]}\n",
    "            metadata.append(entry_metadata)\n",
    "            count += 1\n",
    "    return metadata[1:]\n",
    "\n",
    "metadatas = create_metadata_list()\n",
    "print(metadatas)\n"
   ]
  },
  {
   "cell_type": "markdown",
   "metadata": {},
   "source": [
    "2. Use metadata info to generate list of file_paths to corresponding thumbnail"
   ]
  },
  {
   "cell_type": "code",
   "execution_count": 99,
   "metadata": {},
   "outputs": [
    {
     "name": "stdout",
     "output_type": "stream",
     "text": [
      "['images/3Blue1Brown/OkmNXy7er84.jpg', 'images/3Blue1Brown/r6sGWTCMz2k.jpg']\n"
     ]
    }
   ],
   "source": [
    "def create_paths_list(md) -> list:\n",
    "    paths = []\n",
    "    for i in md:\n",
    "        channel = i['channel']\n",
    "        id = i['photo_id']\n",
    "        path = 'images/'+f'{channel}/'+f'{id}.jpg'\n",
    "        paths.append(path)\n",
    "    return paths\n",
    "    \n",
    "paths = create_paths_list(metadatas) \n",
    "print(paths)"
   ]
  },
  {
   "cell_type": "markdown",
   "metadata": {},
   "source": [
    "3. Create a list of tuples with t[0]=metadata:dict, t[1]=img_file_path:str"
   ]
  },
  {
   "cell_type": "code",
   "execution_count": 100,
   "metadata": {},
   "outputs": [
    {
     "name": "stdout",
     "output_type": "stream",
     "text": [
      "[({'blob_type': 'youtube', 'photo_id': 'OkmNXy7er84', 'channel': '3Blue1Brown', 'category': 'Science', 'title': 'The hardest problem on the hardest test'}, 'images/3Blue1Brown/OkmNXy7er84.jpg'), ({'blob_type': 'youtube', 'photo_id': 'r6sGWTCMz2k', 'channel': '3Blue1Brown', 'category': 'Science', 'title': 'But what is a Fourier series? From heat flow to drawing with circles | DE4'}, 'images/3Blue1Brown/r6sGWTCMz2k.jpg')]\n"
     ]
    }
   ],
   "source": [
    "def create_upload_tuples(metadatas:list, paths:list) -> list: \n",
    "    upload_tups = []\n",
    "    for i in range(len(paths)):\n",
    "        upload_tups.append((metadatas[i],paths[i]))\n",
    "    return upload_tups\n",
    "\n",
    "blob_info:List[tuple] = create_upload_tuples(metadatas,paths)\n",
    "print(blob_info)"
   ]
  },
  {
   "cell_type": "markdown",
   "metadata": {},
   "source": [
    "### Cabinet at Work"
   ]
  },
  {
   "cell_type": "markdown",
   "metadata": {},
   "source": [
    "BLOB_TYPES - provieds name and metadata fields for all blob_types in your Cabinet"
   ]
  },
  {
   "cell_type": "code",
   "execution_count": 101,
   "metadata": {},
   "outputs": [
    {
     "name": "stdout",
     "output_type": "stream",
     "text": [
      "testing\n",
      "{'fruit': ['entry_id', 'blob_type', 'fruit_name', 'fruit_color', 'blob_hash'], 'chess': ['entry_id', 'blob_type'], 'youtube': ['entry_id', 'blob_type', 'blob_hash', 'photo_id', 'channel', 'category', 'title']}\n"
     ]
    }
   ],
   "source": [
    "print(ENV)\n",
    "print(c.list_blob_types())"
   ]
  },
  {
   "cell_type": "markdown",
   "metadata": {},
   "source": [
    "FIELDS - lists metadata fields of specified blob_type"
   ]
  },
  {
   "cell_type": "code",
   "execution_count": 102,
   "metadata": {},
   "outputs": [
    {
     "name": "stdout",
     "output_type": "stream",
     "text": [
      "['entry_id', 'blob_type', 'blob_hash', 'photo_id', 'channel', 'category', 'title']\n"
     ]
    }
   ],
   "source": [
    "print(c.list_schema('youtube'))"
   ]
  },
  {
   "cell_type": "markdown",
   "metadata": {},
   "source": [
    "#### Upload Blobs\n",
    "Iterate through list of tuples and add each blob+metadata to Cabinet using the cabinet UPLOAD function "
   ]
  },
  {
   "cell_type": "code",
   "execution_count": 103,
   "metadata": {},
   "outputs": [
    {
     "name": "stdout",
     "output_type": "stream",
     "text": [
      "BlobDuplication: blob already saved in requested location\n",
      "BlobDuplication: blob already saved in requested location\n"
     ]
    }
   ],
   "source": [
    "def upload_bulk_data(blob_info:List[tuple]):\n",
    "    for tup in blob_info:\n",
    "        try:  \n",
    "            print(c.upload(tup[0], tup[1], ['testing']))\n",
    "        except Exception as e: \n",
    "            print(e.args[0])\n",
    "            continue\n",
    "\n",
    "upload_bulk_data(blob_info) "
   ]
  },
  {
   "cell_type": "markdown",
   "metadata": {},
   "source": [
    "SEARCH - search for entries that match specified metadata values. You can use any number of valid metadata fields to search. "
   ]
  },
  {
   "cell_type": "code",
   "execution_count": 104,
   "metadata": {},
   "outputs": [
    {
     "name": "stdout",
     "output_type": "stream",
     "text": [
      "Number of matching entries:  7\n",
      "Details for 2 entries\n",
      "channel ['3Blue1Brown', '3Blue1Brown']\n",
      "blob_type ['youtube', 'youtube']\n",
      "blob_hash ['07e34467fe1418d8d80c9fa6efbf7868a98148b8ed3918a3be606ca070b51dda', 'ced97f146e9aa3db62131c537fedab78bfa9355698e53b746da1158a70fde9cc']\n",
      "category ['Science', 'Science']\n",
      "entry_id [144, 145]\n",
      "photo_id ['OkmNXy7er84', 'r6sGWTCMz2k']\n",
      "title ['The hardest problem on the hardest test', 'But what is a Fourier series? From heat flow to drawing with circles | DE4']\n"
     ]
    }
   ],
   "source": [
    "preview = 2\n",
    "\n",
    "matching_entries = c.search('youtube',{'category':'Science'})\n",
    "print('Number of matching entries: ', len(matching_entries))\n",
    "print(f'Details for {preview} entries')\n",
    "for key in matching_entries:\n",
    "    print(key, matching_entries[key][:preview])"
   ]
  },
  {
   "cell_type": "markdown",
   "metadata": {},
   "source": [
    "If no metadata values are provided, all entries for specified blob_type are returned "
   ]
  },
  {
   "cell_type": "code",
   "execution_count": 105,
   "metadata": {},
   "outputs": [
    {
     "name": "stdout",
     "output_type": "stream",
     "text": [
      "There are 4 youtube entries\n"
     ]
    }
   ],
   "source": [
    "matching_entries = c.search('youtube')\n",
    "num_entries = len(matching_entries['entry_id'])\n",
    "print(f'There are {num_entries} youtube entries')\n"
   ]
  },
  {
   "cell_type": "markdown",
   "metadata": {},
   "source": [
    "UPDATE - creates a soft update "
   ]
  },
  {
   "cell_type": "code",
   "execution_count": 106,
   "metadata": {},
   "outputs": [
    {
     "name": "stdout",
     "output_type": "stream",
     "text": [
      "{'channel': ['3Blue1Brown', '3Blue1Brown', '3Blue1Brown'], 'blob_type': ['youtube', 'youtube', 'youtube'], 'blob_hash': ['07e34467fe1418d8d80c9fa6efbf7868a98148b8ed3918a3be606ca070b51dda', '07e34467fe1418d8d80c9fa6efbf7868a98148b8ed3918a3be606ca070b51dda', '07e34467fe1418d8d80c9fa6efbf7868a98148b8ed3918a3be606ca070b51dda'], 'category': ['Science', 'MATH', 'MATH'], 'entry_id': [144, 146, 147], 'photo_id': ['OkmNXy7er84', 'OkmNXy7er84', 'OkmNXy7er84'], 'title': ['The hardest problem on the hardest test', 'The hardest problem on the hardest test', 'The hardest problem on the hardest test']}\n"
     ]
    }
   ],
   "source": [
    "# Pre-update: search all entries in youtube table matching specified title\n",
    "resp = c.search('youtube',{'title':'The hardest problem on the hardest test'})\n",
    "print(resp)\n",
    "entry_id_ex = resp['entry_id'][0]"
   ]
  },
  {
   "cell_type": "code",
   "execution_count": 107,
   "metadata": {},
   "outputs": [
    {
     "name": "stdout",
     "output_type": "stream",
     "text": [
      "{'entry_id': 148}\n"
     ]
    }
   ],
   "source": [
    "# Update: a new metadata entry containing the specified changes is added to the youtube table \n",
    "id_of_update = c.update('youtube',entry_id_ex,{'category':'MATH'})\n",
    "print(id_of_update)"
   ]
  },
  {
   "cell_type": "code",
   "execution_count": 108,
   "metadata": {},
   "outputs": [
    {
     "name": "stdout",
     "output_type": "stream",
     "text": [
      "{'channel': ['3Blue1Brown', '3Blue1Brown', '3Blue1Brown', '3Blue1Brown'], 'blob_type': ['youtube', 'youtube', 'youtube', 'youtube'], 'blob_hash': ['07e34467fe1418d8d80c9fa6efbf7868a98148b8ed3918a3be606ca070b51dda', '07e34467fe1418d8d80c9fa6efbf7868a98148b8ed3918a3be606ca070b51dda', '07e34467fe1418d8d80c9fa6efbf7868a98148b8ed3918a3be606ca070b51dda', '07e34467fe1418d8d80c9fa6efbf7868a98148b8ed3918a3be606ca070b51dda'], 'category': ['Science', 'MATH', 'MATH', 'MATH'], 'entry_id': [144, 146, 147, 148], 'photo_id': ['OkmNXy7er84', 'OkmNXy7er84', 'OkmNXy7er84', 'OkmNXy7er84'], 'title': ['The hardest problem on the hardest test', 'The hardest problem on the hardest test', 'The hardest problem on the hardest test', 'The hardest problem on the hardest test']}\n"
     ]
    }
   ],
   "source": [
    "# Post-update: same search shows new updated entry has been added \n",
    "print(c.search('youtube',{'title':'The hardest problem on the hardest test'}))"
   ]
  },
  {
   "cell_type": "markdown",
   "metadata": {},
   "source": [
    "RETRIEVE - returns desired blob in bytes"
   ]
  },
  {
   "cell_type": "code",
   "execution_count": 109,
   "metadata": {},
   "outputs": [
    {
     "name": "stdout",
     "output_type": "stream",
     "text": [
      "Paths to locations where blob is saved ['blobs/youtube/07e34467fe1418d8d80c9fa6efbf7868a98148b8ed3918a3be606ca070b51dda']\n"
     ]
    }
   ],
   "source": [
    "blob_urls = c.retrieve('youtube', entry_id_ex)\n",
    "print('Paths to locations where blob is saved', blob_urls)\n",
    "path1 = blob_urls[0]"
   ]
  },
  {
   "cell_type": "markdown",
   "metadata": {},
   "source": [
    "### Post Processing\n",
    "blob must be further processed by user to regain original format"
   ]
  },
  {
   "cell_type": "code",
   "execution_count": 110,
   "metadata": {},
   "outputs": [],
   "source": [
    "# opens image in new window\n",
    "Image.open(path1).show()"
   ]
  },
  {
   "cell_type": "markdown",
   "metadata": {},
   "source": [
    "Open file in notebook"
   ]
  },
  {
   "cell_type": "code",
   "execution_count": null,
   "metadata": {},
   "outputs": [],
   "source": [
    "with open(path1, 'rb') as f:\n",
    "    im_binary = f.read() \n",
    "blob_base64 = b64encode(im_binary)\n",
    "display.Image(b64decode(blob_base64))"
   ]
  }
 ],
 "metadata": {
  "kernelspec": {
   "display_name": "Python 3.9.6 ('.venv_cabsb': venv)",
   "language": "python",
   "name": "python3"
  },
  "language_info": {
   "codemirror_mode": {
    "name": "ipython",
    "version": 3
   },
   "file_extension": ".py",
   "mimetype": "text/x-python",
   "name": "python",
   "nbconvert_exporter": "python",
   "pygments_lexer": "ipython3",
   "version": "3.9.6"
  },
  "orig_nbformat": 4,
  "vscode": {
   "interpreter": {
    "hash": "47e82a071e3820ae9cf059417199a025b78d81705ad60773595e26746d43d2e9"
   }
  }
 },
 "nbformat": 4,
 "nbformat_minor": 2
}
